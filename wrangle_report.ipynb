{
 "cells": [
  {
   "cell_type": "markdown",
   "metadata": {},
   "source": [
    "## Reporting: wrangle_report"
   ]
  },
  {
   "cell_type": "markdown",
   "metadata": {},
   "source": [
    "### 1. Data Gathering\n",
    "\n",
    "I have directly download the WeRateDogs Twitter archive data (twitter_archive_enhanced.csv), used the Requests library to download the tweet image prediction (image_predictions.tsv) and used the Tweepy library to query additional data via the Twitter API (tweet_json.txt)"
   ]
  },
  {
   "cell_type": "markdown",
   "metadata": {},
   "source": [
    "### 2. Data Assessing\n",
    "\n",
    "I then assessed the separate datasets programmatically and visually and identified 9 quality issues and 3 tidiness issues. They are listed down below:\n",
    "\n",
    "### Quality issues\n",
    "1. Twitter_archive: Retweets variables are present and not original data.\n",
    "\n",
    "2. Twitter_archive: Missing values in the *name and expanded_urls columns\n",
    "\n",
    "3. Twitter_archive: Invalid values e.g 'the' and 'a' in the name column.\n",
    "\n",
    "4. Twitter_archive: The columns *timestamp* are strings, they should be converted to datetime\n",
    "\n",
    "5. Twitter_archive: *rating_numerator* has an invalid range.\n",
    "\n",
    "6. Twitter_archive: Invalid values in the *rating_denominator* column\n",
    "\n",
    "7. p1,p2 and p3 - No standard, names starting with uppercase or lowercase\n",
    "\n",
    "8. jpg_url - Duplicated images\n",
    "\n",
    "9. Retweets variables are present and not original data.\n",
    "\n",
    "##### Tidiness Issues\n",
    "1. There is two information in a single column; Text and URL in the text column\n",
    "\n",
    "2. The dataframes *image_predictions* and *twitter_archives* should be merged\n",
    "\n",
    "3. The columns doggo, fluffo, puppo and pupper are categorical variables that are in separate columns."
   ]
  },
  {
   "cell_type": "markdown",
   "metadata": {},
   "source": [
    "### 3. Data Cleaning\n",
    "\n",
    "Before the cleaning process, I made a copy of the original dataframes. The copies were;\n",
    "- twitter_archive.copy()\n",
    "- image_predictions.copy()\n",
    "- raw_tweet_data.copy()\n",
    "\n",
    "1. I dropped unnecessary columns i*in_reply_to_status_id, in_reply_to_user_id, retweeted_status_id, retweeted_status_user_id, and retweeted_status_timestamp*. These were columns that did not have original tweets data containing images, they only contained retweets which would sometimes contain information unrelated to dogs.\n",
    "2. The invalid dog names were renamed to \"None\"\n",
    "3. The timestamp datatype was converted from string to datetime\n",
    "4. The invalid ratings(numerator and denominator) were removed\n",
    "5. Standardized the dog breeds values in the columns p1, p2 and p3\n",
    "6. Removed all the duplicated images in the jpg_url column\n",
    "\n",
    "Finally, the tidiness issues were resolved by merging image_predictions_clean and twitter_archive_clean dataframes; and split the text and url information in the text column into separate columns.\n",
    "The columns doggo, puppo, pupper and floofer were combined into one column, this is because these are categorical variables.\n"
   ]
  }
 ],
 "metadata": {
  "kernelspec": {
   "display_name": "Python 3",
   "language": "python",
   "name": "python3"
  },
  "language_info": {
   "codemirror_mode": {
    "name": "ipython",
    "version": 3
   },
   "file_extension": ".py",
   "mimetype": "text/x-python",
   "name": "python",
   "nbconvert_exporter": "python",
   "pygments_lexer": "ipython3",
   "version": "3.6.3"
  }
 },
 "nbformat": 4,
 "nbformat_minor": 2
}
